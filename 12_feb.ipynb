{
 "cells": [
  {
   "cell_type": "code",
   "execution_count": null,
   "id": "8211aa65-e269-4cde-b702-bf6a61d07b1b",
   "metadata": {},
   "outputs": [],
   "source": [
    "\"\"\"Q1. What is an Exception in python? Write the difference between Exceptions and Syntax errors.\"\"\"\n",
    "#Ans: In Python, an exception is an event that occurs during the execution of a program, which disrupts the \n",
    "# normal flow of the program's instructions. When an exceptional situation is encountered, Python raises an\n",
    "# exception object, which represents the occurrence of an error or unexpected condition. Exception handling \n",
    "# allows programmers to catch and respond to these exceptions, ensuring that the program gracefully handles\n",
    "# errors rather than abruptly terminating.\n",
    "#  exceptions occur during the runtime of the program due to unexpected conditions, while syntax errors occur\n",
    "# during the parsing phase due to incorrect code syntax. Exception handling allows programmers to gracefully \n",
    "# manage exceptions and prevent the program from crashing when errors occur. Syntax errors, on the other hand,\n",
    "# must be fixed before the program can be executed successfully."
   ]
  },
  {
   "cell_type": "code",
   "execution_count": 1,
   "id": "b5768b51-9745-4eb7-9aae-cbfcdd6e7100",
   "metadata": {},
   "outputs": [],
   "source": [
    "\"\"\" Q2. What happens when an exception is not handled? Explain with an example. \"\"\"\n",
    "#Ans:  When an exception is not handled in Python, it results in the termination of the program with an error \n",
    "# message. The unhandled exception causes the program to stop executing further code, and Python displays a\n",
    "# traceback message that indicates the line where the exception occurred and the type of exception raised.\n",
    "\n",
    "def divide_numbers(a, b):\n",
    "    return a / b\n",
    "\n",
    "try:\n",
    "    result = divide_numbers(10, 0)\n",
    "except:\n",
    "    # Exception handling block\n",
    "    pass"
   ]
  },
  {
   "cell_type": "code",
   "execution_count": null,
   "id": "7a4a39a7-9075-4573-81c9-67c9cc4c0260",
   "metadata": {},
   "outputs": [],
   "source": [
    "\"\"\" Q3. Which Python statements are used to catch and handle exceptions? Explain with an example.\"\"\"\n",
    "#Ans: n Python, you can catch and handle exceptions using the try, except block. The try block contains the \n",
    "# code that might raise an exception, and the except block handles the exception if it occurs\n",
    "def divide_numbers(a, b):\n",
    "    try:\n",
    "        result = a / b\n",
    "    except ZeroDivisionError:\n",
    "        print(\"Error: Cannot divide by zero!\")\n",
    "        result = None\n",
    "    return result"
   ]
  },
  {
   "cell_type": "code",
   "execution_count": null,
   "id": "390b8d73-cfaa-4b42-994b-538e875d9260",
   "metadata": {},
   "outputs": [],
   "source": [
    "\"\"\" Q4. Explain with an example:\n",
    "a. try and else\n",
    "b. finally\n",
    "c. raise\"\"\"\n",
    "#Ans: a. try, else block:\n",
    "\n",
    "#In Python, you can use a try-else block to specify code that should run when there is no exception raised\n",
    "# in the try block. The else block is optional and will only execute if there are no exceptions in the try block.\n",
    "def divide_numbers(a, b):\n",
    "    try:\n",
    "        result = a / b\n",
    "    except ZeroDivisionError:\n",
    "        print(\"Error: Cannot divide by zero!\")\n",
    "        result = None\n",
    "    else:\n",
    "        print(\"Division successful!\")\n",
    "    return result"
   ]
  },
  {
   "cell_type": "code",
   "execution_count": null,
   "id": "f3339566-487b-4e09-af14-e8e05cb9f330",
   "metadata": {},
   "outputs": [],
   "source": [
    "# b. finally:\n",
    "# The finally block is used to specify code that should be executed regardless of whether an exception occurs or \n",
    "# not. It is usually used to perform cleanup operations that should happen no matter what, such as closing files\n",
    "# or releasing resources.\n",
    "def divide_numbers(a, b):\n",
    "    try:\n",
    "        result = a / b\n",
    "    except ZeroDivisionError:\n",
    "        print(\"Error: Cannot divide by zero!\")\n",
    "        result = None\n",
    "    else:\n",
    "        print(\"Division successful!\")\n",
    "    finally:\n",
    "        print(\"Operation completed.\")\n",
    "    return result"
   ]
  },
  {
   "cell_type": "code",
   "execution_count": null,
   "id": "0fbdfb05-f7db-4ab1-bce2-9f1f2bfd32f1",
   "metadata": {},
   "outputs": [],
   "source": [
    "# c. raise:\n",
    "\n",
    "# In Python, raise is used to explicitly raise an exception. You can use it when you encounter a specific\n",
    "# condition that you want to handle as an exception.\n",
    "def positive_square_root(num):\n",
    "    if num < 0:\n",
    "        raise ValueError(\"Input must be a non-negative number.\")\n",
    "    return num ** 0.5"
   ]
  },
  {
   "cell_type": "code",
   "execution_count": 1,
   "id": "d48e389c-1b97-4438-9402-45b16c208b7b",
   "metadata": {},
   "outputs": [],
   "source": [
    "\"\"\" Q5. What are Custom Exceptions in python? Why do we need Custom Exceptions? Explain with an example.\"\"\"\n",
    "#Ans: \n",
    "# In Python, custom exceptions are user-defined exceptions created by subclassing the built-in Exception class\n",
    "# or its subclasses. By creating custom exceptions, you can define your specific types of errors that are relevant\n",
    "# to your application domain. This allows you to handle exceptional situations more precisely and make your code \n",
    "# more readable and maintainable\n",
    "\n",
    "# We need it because:\n",
    "\n",
    "# Improved Readability: Custom exceptions provide descriptive names for specific error conditions in your code,\n",
    "# making it easier to understand what went wrong at a glance.\n",
    "\n",
    "# Precise Error Handling: With custom exceptions, you can catch and handle specific error scenarios separately,\n",
    "# allowing you to take appropriate actions based on the type of exception raised.\n",
    "\n",
    "# Modularity: Custom exceptions promote modularity by encapsulating error handling logic in specific exception\n",
    "# classes, which can be reused across different parts of your code.\n",
    "\n",
    "# Centralized Control: Having custom exceptions lets you have centralized control over error handling, making \n",
    "# it easier to manage and maintain your codebase.\n",
    "class InsufficientBalanceError(Exception):\n",
    "    def __init__(self, balance, amount):\n",
    "        super().__init__(f\"Insufficient balance. Available: {balance}, Required: {amount}\")\n",
    "        self.balance = balance\n",
    "        self.amount = amount\n",
    "\n",
    "    def __str__(self):\n",
    "        return f\"InsufficientBalanceError: Available balance: {self.balance}, Required amount: {self.amount}\""
   ]
  },
  {
   "cell_type": "code",
   "execution_count": 2,
   "id": "9434910a-47f2-48c1-b26c-0855af7e925e",
   "metadata": {},
   "outputs": [],
   "source": [
    "def withdraw_from_account(account_balance, amount):\n",
    "    if account_balance >= amount:\n",
    "        account_balance -= amount\n",
    "        print(f\"Withdrawal successful. Remaining balance: {account_balance}\")\n",
    "    else:\n",
    "        raise InsufficientBalanceError(account_balance, amount)"
   ]
  },
  {
   "cell_type": "code",
   "execution_count": 3,
   "id": "37a5b91e-0099-449b-889a-07065120c7c4",
   "metadata": {},
   "outputs": [
    {
     "name": "stdout",
     "output_type": "stream",
     "text": [
      "InsufficientBalanceError: Available balance: 1000, Required amount: 1500\n"
     ]
    }
   ],
   "source": [
    "account_balance = 1000\n",
    "withdraw_amount = 1500\n",
    "\n",
    "try:\n",
    "    withdraw_from_account(account_balance, withdraw_amount)\n",
    "except InsufficientBalanceError as e:\n",
    "    print(e)"
   ]
  },
  {
   "cell_type": "code",
   "execution_count": 4,
   "id": "7da490de-a1dc-4c3b-b367-f4062788e121",
   "metadata": {},
   "outputs": [
    {
     "name": "stdin",
     "output_type": "stream",
     "text": [
      "Enter an integer:  10\n"
     ]
    },
    {
     "name": "stdout",
     "output_type": "stream",
     "text": [
      "Result: 20\n"
     ]
    }
   ],
   "source": [
    "\"\"\" Q6. Create a custom exception class. Use this class to handle an exception.\"\"\"\n",
    "#Ans: \n",
    "class InvalidInputError(Exception):\n",
    "    def __init__(self, message):\n",
    "        super().__init__(message)\n",
    "        self.message = message\n",
    "\n",
    "    def __str__(self):\n",
    "        return f\"InvalidInputError: {self.message}\"\n",
    "\n",
    "\n",
    "def process_input(input_value):\n",
    "    if not isinstance(input_value, int):\n",
    "        raise InvalidInputError(\"Input must be an integer.\")\n",
    "    return input_value * 2\n",
    "\n",
    "\n",
    "try:\n",
    "    user_input = input(\"Enter an integer: \")\n",
    "    user_input = int(user_input)\n",
    "    result = process_input(user_input)\n",
    "    print(\"Result:\", result)\n",
    "except InvalidInputError as e:\n",
    "    print(e)\n"
   ]
  },
  {
   "cell_type": "code",
   "execution_count": null,
   "id": "ec825584-0e8a-49ee-adf6-2fa5fa94cacf",
   "metadata": {},
   "outputs": [],
   "source": []
  }
 ],
 "metadata": {
  "kernelspec": {
   "display_name": "Python 3 (ipykernel)",
   "language": "python",
   "name": "python3"
  },
  "language_info": {
   "codemirror_mode": {
    "name": "ipython",
    "version": 3
   },
   "file_extension": ".py",
   "mimetype": "text/x-python",
   "name": "python",
   "nbconvert_exporter": "python",
   "pygments_lexer": "ipython3",
   "version": "3.10.8"
  }
 },
 "nbformat": 4,
 "nbformat_minor": 5
}
