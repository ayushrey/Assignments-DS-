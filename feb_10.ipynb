{
 "cells": [
  {
   "cell_type": "code",
   "execution_count": null,
   "id": "7e0c9d0e-aa5c-4600-b268-4fdaa2705a74",
   "metadata": {},
   "outputs": [],
   "source": [
    "\"\"\" Q1. Which function is used to open a file? What are the different modes of opening a file? Explain each mode\n",
    "of file opening.\"\"\"\n",
    "#Ans: n Python, the open() function is used to open a file. \n",
    "\"\"\" \n",
    "'r' (Read mode):\n",
    "This is the default mode. It allows you to read the contents of the file.\n",
    "If the file does not exist or cannot be opened, it will raise a FileNotFoundError.\n",
    "Example: file = open(\"example.txt\", \"r\")\n",
    "\n",
    "'w' (Write mode):\n",
    "This mode allows you to write data to a file.\n",
    "If the file does not exist, it will create a new file. If the file exists, it will truncate the file (remove all content) before writing.\n",
    "Example: file = open(\"example.txt\", \"w\")\n",
    "\n",
    "'a' (Append mode):\n",
    "This mode allows you to append data to the end of the file.\n",
    "If the file does not exist, it will create a new file.\n",
    "Example: file = open(\"example.txt\", \"a\")\n",
    "\n",
    "'x' (Exclusive creation mode):\n",
    "This mode is similar to the write mode ('w'), but it will raise a FileExistsError if the file already exists.\n",
    "Example: file = open(\"example.txt\", \"x\")\n",
    "\n",
    "'b' (Binary mode):\n",
    "This mode is used when dealing with binary data, such as images or executable files.\n",
    "It can be combined with the other modes. For example, 'rb' for reading a binary file, 'wb' for writing binary data, etc.\n",
    "\n",
    "'t' (Text mode):\n",
    "This mode is used when dealing with text files (default mode if no 'b' is present).\n",
    "It can be combined with other modes. For example, 'rt' for reading a text file, 'wt' for writing text, etc.\"\"\""
   ]
  },
  {
   "cell_type": "code",
   "execution_count": 1,
   "id": "7521e776-51ff-484b-9795-ab199ee5f3ed",
   "metadata": {},
   "outputs": [
    {
     "data": {
      "text/plain": [
       "'Q2. Why close() function is used? Why is it important to close a file?'"
      ]
     },
     "execution_count": 1,
     "metadata": {},
     "output_type": "execute_result"
    }
   ],
   "source": [
    "\"\"\"Q2. Why close() function is used? Why is it important to close a file?\"\"\"\n",
    "#Ans:The close() function is used to close an open file in Python. When you open a file using the open() \n",
    "# function, it establishes a connection between your Python program and the file on the disk. This connection\n",
    "# consumes system resources, such as file descriptors, and allows your program to read from or write to the file.\n",
    "#It is important to close a file because:\n",
    "#Release of Resources: In situations where a large number of files are being processed, not closing files \n",
    "#can lead to resource exhaustion and may cause the program or system to crash.\n",
    "#Flushing Data:  If the file is not closed properly, the data may not be written entirely, leading\n",
    "#to data loss or incomplete files."
   ]
  },
  {
   "cell_type": "code",
   "execution_count": 1,
   "id": "57e92678-1d6f-4a4f-a44f-6d2e36da879a",
   "metadata": {},
   "outputs": [],
   "source": [
    "\"\"\" Q3. Write a python program to create a text file. Write ‘I want to become a Data Scientist’ in that file. Then\n",
    "close the file. Open this file and read the content of the file.\"\"\"\n",
    "#Ans: \n",
    "f= open(\"text.txt\", 'w')\n",
    "f.write(\"I want to become a Data Scientist\")\n",
    "f.close()"
   ]
  },
  {
   "cell_type": "code",
   "execution_count": 2,
   "id": "adf4619d-346a-4c20-94ca-ad54674debfc",
   "metadata": {},
   "outputs": [
    {
     "name": "stdout",
     "output_type": "stream",
     "text": [
      "I want to become a Data Scientist\n"
     ]
    }
   ],
   "source": [
    "f= open(\"text.txt\", 'r')\n",
    "print(f.read())\n",
    "f.close()"
   ]
  },
  {
   "cell_type": "code",
   "execution_count": 3,
   "id": "b80b5065-85c6-4952-935c-e122f6af4068",
   "metadata": {},
   "outputs": [
    {
     "name": "stdout",
     "output_type": "stream",
     "text": [
      "Hello, this is line 1.This is line 2.And this is line 3.\n"
     ]
    }
   ],
   "source": [
    "\"\"\"Q4. Explain the following with python code: read(), readline() and readlines().\"\"\"\n",
    "#Ans: In Python, the read(), readline(), and readlines() are methods used for reading data\n",
    "#from a file. Let's explain each of them with Python code examples:\n",
    "\n",
    "# read(): The read() method reads the entire content of the file as a single string. It reads from the current \n",
    "#file position up to the end of the file.\n",
    "\n",
    "# Example using read()\n",
    "file_path = \"example.txt\"\n",
    "\n",
    "with open(\"file_path\", \"w\") as file:\n",
    "    file.write(\"Hello, this is line 1.\")    \n",
    "    file.write(\"This is line 2.\")\n",
    "    file.write(\"And this is line 3.\")\n",
    "\n",
    "# Open the file in read mode\n",
    "with open(\"file_path\", \"r\") as file:\n",
    "    # Read the entire content of the file into a single string\n",
    "    content = file.read()\n",
    "\n",
    "# Print the content of the file\n",
    "print(content)"
   ]
  },
  {
   "cell_type": "code",
   "execution_count": 5,
   "id": "b22f8144-cfae-414b-a8f1-18757966ca6b",
   "metadata": {},
   "outputs": [
    {
     "name": "stdout",
     "output_type": "stream",
     "text": [
      "Line 1: This sentence is being read by readline command\n",
      "Line 2: This is its second line\n"
     ]
    }
   ],
   "source": [
    "#readline(): The readline() method reads a single line from the file. Each time it's called, it moves \n",
    "#the file pointer to the beginning of the next line.\n",
    "\n",
    "# Example using readline()\n",
    "file_path = \"example.txt\"\n",
    "\n",
    "with open(\"file_path\", \"w\") as file:\n",
    "    file.write(\"Hello, this is line 1.\")    \n",
    "    file.write(\"This is line 2.\")\n",
    "    file.write(\"And this is line 3.\")\n",
    "\n",
    "# Open the file in read mode\n",
    "with open(file_path, \"r\") as file:\n",
    "    # Read the first line from the file\n",
    "    line1 = file.readline()\n",
    "    # Read the second line from the file\n",
    "    line2 = file.readline()\n",
    "\n",
    "# Print the lines read from the file\n",
    "print(\"Line 1:\", line1.strip())  # The strip() method removes the trailing newline character\n",
    "print(\"Line 2:\", line2.strip())"
   ]
  },
  {
   "cell_type": "code",
   "execution_count": 6,
   "id": "647a4ff0-f885-42e1-adc5-7fb9d7c913a2",
   "metadata": {},
   "outputs": [
    {
     "name": "stdout",
     "output_type": "stream",
     "text": [
      "Line 1: This sentence is being read by readline command\n",
      "Line 2: This is its second line\n"
     ]
    }
   ],
   "source": [
    "# readlines(): The readlines() method reads all the lines of the file and returns them as a list of strings.\n",
    "#Each element of the list represents a line from the file.\n",
    "\n",
    "# Example using readlines()\n",
    "file_path = \"example.txt\"\n",
    "\n",
    "with open(\"file_path\", \"w\") as file:\n",
    "    file.write(\"Hello, this is line 1.\")    \n",
    "    file.write(\"This is line 2.\")\n",
    "    file.write(\"And this is line 3.\")\n",
    "\n",
    "# Open the file in read mode\n",
    "with open(file_path, \"r\") as file:\n",
    "    # Read all lines from the file and store them in a list\n",
    "    lines = file.readlines()\n",
    "\n",
    "# Print the lines read from the file\n",
    "for i, line in enumerate(lines):\n",
    "    print(f\"Line {i+1}: {line.strip()}\")"
   ]
  },
  {
   "cell_type": "code",
   "execution_count": 9,
   "id": "8a4cbade-43ae-47c7-b6cc-017788e3aee5",
   "metadata": {},
   "outputs": [
    {
     "name": "stdout",
     "output_type": "stream",
     "text": [
      "fdsa\n"
     ]
    }
   ],
   "source": [
    "\"\"\" Q5. Explain why with statement is used with open(). What is the advantage of using with statement and\n",
    "open() together?\"\"\"\n",
    "#Ans: The with statement is used with the open() function in Python to ensure proper management and cleanup of \n",
    "# resources, particularly when working with files. It is a context manager that provides a convenient way to \n",
    "# handle the opening and closing of files and other resources in a safe and automated manner.\n",
    "# Advantages of using the with statement with open():\n",
    "# Automatic Resource Management: When using the with statement with open(), Python automatically takes care of opening the file and, more importantly, ensures that the file is properly closed when the code block inside the with statement is exited. This ensures that resources associated with the file, such as file handles and system buffers, are released promptly and efficiently, avoiding resource leaks.\n",
    "\n",
    "#Exception Handling: The with statement also handles exceptions gracefully. If an exception occurs within the code block, Python will still guarantee the file is closed properly before propagating the exception further up the call stack. This helps prevent data loss or corruption that might occur if the file was not closed correctly due to an exception.\n",
    "\n",
    "#Concise and Readable Code: Using the with statement with open() results in more concise and readable code. The opening and closing of the file are encapsulated within the with block, making it clear where the file is being used and where its lifecycle ends."
   ]
  },
  {
   "cell_type": "code",
   "execution_count": null,
   "id": "b26ae9fb-54de-4ce1-be4f-e6f3e7ee4e7c",
   "metadata": {},
   "outputs": [],
   "source": [
    "\"\"\"Q6. Explain the write() and writelines() functions. Give a suitable example.\"\"\"\n",
    "#Ans: write(): The write() method is used to write a single string to the file. It takes a string as an argument and writes it to the file at the current position. If the file already contains data, calling write() will overwrite the existing content from the current position. If the file is opened in append mode ('a'), the new data will be added at the end of the file.\n",
    "# writelines(): The writelines() method is used to write multiple strings to the file. It takes an iterable (e.g., a list of strings) as an argument and writes each element of the iterable to the file consecutively. Like write(), it also overwrites existing content when the file is opened in write mode ('w').\n"
   ]
  }
 ],
 "metadata": {
  "kernelspec": {
   "display_name": "Python 3 (ipykernel)",
   "language": "python",
   "name": "python3"
  },
  "language_info": {
   "codemirror_mode": {
    "name": "ipython",
    "version": 3
   },
   "file_extension": ".py",
   "mimetype": "text/x-python",
   "name": "python",
   "nbconvert_exporter": "python",
   "pygments_lexer": "ipython3",
   "version": "3.10.8"
  }
 },
 "nbformat": 4,
 "nbformat_minor": 5
}
