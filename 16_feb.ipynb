{
 "cells": [
  {
   "cell_type": "code",
   "execution_count": null,
   "id": "eca5f0da-19c3-41aa-8222-fd45a63cb83d",
   "metadata": {},
   "outputs": [],
   "source": [
    "\"\"\" Q1. What is a database? Differentiate between SQL and NoSQL databases.\"\"\"\n",
    "#Ans: A database is a structured collection of data that is organized and stored in a way that allows for efficient\n",
    "# retrieval, management, and manipulation of information. Databases are used in various applications and systems \n",
    "# to store and manage large volumes of data, making it easy to access, update, and analyze information. \n",
    "# SQL (Structured Query Language) and NoSQL (Not Only SQL) are two different types of database management\n",
    "# systems, each with its own strengths and use cases.\n",
    "#     Diffrence between SQL and NoSQL databases depends on the specific requirements of the application,\n",
    "# the nature of the data, and the scalability needs. SQL databases are ideal for well-defined, structured \n",
    "# data and complex queries, while NoSQL databases excel in handling large volumes of unstructured\n",
    " #or semi-structured data and offer better scalability and flexibility"
   ]
  },
  {
   "cell_type": "code",
   "execution_count": null,
   "id": "bebafc4c-6ec5-4fd5-bee4-39bd7dac614a",
   "metadata": {},
   "outputs": [],
   "source": [
    "\"\"\" Q2. What is DDL? Explain why CREATE, DROP, ALTER, and TRUNCATE are used with an example.\"\"\"\n",
    "#Ans:  DDL stands for Data Definition Language. It is a subset of SQL (Structured Query Language)\n",
    "# used to define and manage the structure or schema of a database. DDL commands are responsible for\n",
    "# creating, modifying, and deleting database objects such as tables, indexes, views, and more. These commands\n",
    "# elp in designing and organizing the database to store and manage data effectively.\n",
    "\n",
    "# 1. CREATE:\n",
    "# The CREATE command is used to create new database objects, such as tables, views, indexes, etc. \n",
    "# It defines the structure of the object and allocates space for storing data.\n",
    "CREATE TABLE Employees (\n",
    "    ID INT PRIMARY KEY,\n",
    "    Name VARCHAR(50),\n",
    "    Age INT,\n",
    "    Department VARCHAR(50)\n",
    ");"
   ]
  },
  {
   "cell_type": "code",
   "execution_count": null,
   "id": "faa0c88d-59e4-4bf7-b41b-fd7730c37a69",
   "metadata": {},
   "outputs": [],
   "source": [
    "# 2. DROP:\n",
    "# The DROP command is used to remove existing database objects such as tables, views, or indexes. Be cautious \n",
    "# when using the DROP command, as it permanently deletes the object and its data.\n",
    "DROP TABLE Employees;"
   ]
  },
  {
   "cell_type": "code",
   "execution_count": null,
   "id": "70515d46-4ca0-43ff-bab9-83e6c343bc96",
   "metadata": {},
   "outputs": [],
   "source": [
    "#3. ALTER:\n",
    "# The ALTER command is used to modify the structure of an existing database object, such as adding, modifying, or\n",
    "# deleting columns from a table.\n",
    "ALTER TABLE Employees\n",
    "ADD Salary DECIMAL(10, 2);"
   ]
  },
  {
   "cell_type": "code",
   "execution_count": null,
   "id": "118185b0-dc97-49aa-907e-b44fd94dcbea",
   "metadata": {},
   "outputs": [],
   "source": [
    "# 4. TRUNCATE:\n",
    "# The TRUNCATE command is used to remove all rows from a table, effectively deleting all data within it. However,\n",
    "# it does not delete the table structure like the DROP command does.\n",
    "TRUNCATE TABLE Employees;"
   ]
  },
  {
   "cell_type": "code",
   "execution_count": null,
   "id": "e81269d5-1dec-4f63-98c6-c5cd15bc2c67",
   "metadata": {},
   "outputs": [],
   "source": [
    "\"\"\" Q3. What is DML? Explain INSERT, UPDATE, and DELETE with an example.\"\"\"\n",
    "#Ans: DML stands for Data Manipulation Language. It is a subset of SQL (Structured Query Language) used to \n",
    "# interact with the data within a database. DML commands are responsible for adding, modifying, and deleting \n",
    "# ata from the database tables. These commands allow users to retrieve, insert, update, and delete records, \n",
    "# enabling them to manipulate the data stored in the database.\n",
    "\n",
    "# 1. INSERT:\n",
    "# The INSERT command is used to add new records (rows) into a database table.\n",
    "INSERT INTO Employees (ID, Name, Age, Department)\n",
    "VALUES (101, 'John Doe', 30, 'HR');"
   ]
  },
  {
   "cell_type": "code",
   "execution_count": null,
   "id": "ce0f01ee-b484-41d9-a9fe-cea6acadfee3",
   "metadata": {},
   "outputs": [],
   "source": [
    "# 2. UPDATE:\n",
    "# The UPDATE command is used to modify existing records (rows) in a database table.\n",
    "UPDATE Employees\n",
    "SET Department = 'Finance'\n",
    "WHERE ID = 101;"
   ]
  },
  {
   "cell_type": "code",
   "execution_count": null,
   "id": "d9e5565c-55ba-4e5b-b400-3f9ed59e1255",
   "metadata": {},
   "outputs": [],
   "source": [
    "# 3. DELETE:\n",
    "# The DELETE command is used to remove one or more records (rows) from a database table\n",
    "DELETE FROM Employees\n",
    "WHERE ID = 101;"
   ]
  },
  {
   "cell_type": "code",
   "execution_count": null,
   "id": "83de4ece-d3b2-4e60-a829-25af5fad931a",
   "metadata": {},
   "outputs": [],
   "source": [
    "\"\"\" Q4. What is DQL? Explain SELECT with an example.\"\"\"\n",
    "#Ans: DQL stands for Data Query Language. It is a subset of SQL (Structured Query Language)used to retrieve data \n",
    "# from a database. DQL commands are primarily concerned with querying and fetching data from database tables.\n",
    "# The SELECT command is used to retrieve data from one or more database tables. It allows you to specify the\n",
    "# columns you want to retrieve and apply various conditions to filter the data. Here's how the SELECT command\n",
    "# works with an example:\n",
    "SELECT Name, Age\n",
    "FROM Students\n",
    "WHERE Subject = 'Mathematics';"
   ]
  },
  {
   "cell_type": "code",
   "execution_count": null,
   "id": "63fe3823-a4c5-4e5f-8350-6f37f2be48eb",
   "metadata": {},
   "outputs": [],
   "source": [
    "\"\"\" Q5. Explain Primary Key and Foreign Key.\"\"\"\n",
    "#Ans:Primary Key:\n",
    "#A primary key is a unique and non-null identifier for a record in a database table. It uniquely identifies\n",
    "# each row within the table and ensures that no two rows can have the same primary key value. The primary key plays\n",
    "# a crucial role in maintaining data integrity and establishing relationships between tables in a relational database.\n",
    "\n",
    "# Foreign Key:\n",
    "# A foreign key is a column or a set of columns in a table that refers to the primary key of another table.\n",
    "# It establishes a relationship between two tables and helps maintain data integrity by enforcing referential\n",
    "# integrity constraints. The foreign key column in one table references the primary key of another table, allowing\n",
    "# data to be linked across tables."
   ]
  },
  {
   "cell_type": "code",
   "execution_count": null,
   "id": "daec5123-a63e-4e9a-b09f-22e106cf6445",
   "metadata": {},
   "outputs": [],
   "source": [
    "\"\"\" Q6. Write a python code to connect MySQL to python. Explain the cursor() and execute() method.\"\"\"\n",
    "#Ans: \n",
    "import mysql.connector\n",
    "\n",
    "# Establishing the connection to MySQL\n",
    "connection = mysql.connector.connect(\n",
    "    host=\"your_host\",\n",
    "    user=\"your_username\",\n",
    "    password=\"your_password\",\n",
    "    database=\"your_database\"\n",
    ")\n",
    "\n",
    "# Creating a cursor object to interact with the database\n",
    "cursor = connection.cursor()\n",
    "\n",
    "# Example: SELECT query\n",
    "query = \"SELECT * FROM your_table_name;\"\n",
    "cursor.execute(query)\n",
    "\n",
    "# Fetching and displaying the results\n",
    "for row in cursor.fetchall():\n",
    "    print(row)\n",
    "\n",
    "# Closing the cursor and the connection\n",
    "cursor.close()\n",
    "connection.close()"
   ]
  },
  {
   "cell_type": "code",
   "execution_count": null,
   "id": "271e16aa-1e58-473d-859d-3db9faaaa594",
   "metadata": {},
   "outputs": [],
   "source": [
    "# cursor() Method:\n",
    "\n",
    "# The cursor() method is used to create a cursor object that allows you to interact with the database using SQL queries.\n",
    "# The cursor object acts as a pointer to a specific position in the result set of a query. It helps you navigate and manipulate data retrieved from the database.\n",
    "# You can think of the cursor as an instance of the connection that allows you to execute SQL commands and retrieve data.\n",
    "# execute() Method:\n",
    "\n",
    "# execute() Method:\n",
    "\n",
    "# The execute() method is used to execute SQL queries or statements using the cursor object.\n",
    "# It takes an SQL query as an argument and sends the query to the database for execution.\n",
    "# The results of the query (if any) can be fetched using methods like fetchone(), fetchall(), etc., which are called on the cursor object after executing the query.\n",
    "# The execute() method is often used with SELECT, INSERT, UPDATE, DELETE, and other SQL statements."
   ]
  },
  {
   "cell_type": "code",
   "execution_count": null,
   "id": "eaa0bc8a-3388-4176-8173-8f73398eaf87",
   "metadata": {},
   "outputs": [],
   "source": [
    "\"\"\" Q7. Give the order of execution of SQL clauses in an SQL query.\"\"\"\n",
    "#Ans: In SQL, an SQL query generally follows a specific order of execution for its clauses. The standard order of\n",
    "# execution for the clauses in an SQL query is as follows:\n",
    "\n",
    "#1. FROM: The FROM clause is executed first, specifying the tables from which data will be retrieved or \n",
    "# manipulated. It defines the source tables for the query.\n",
    "\n",
    "#2. JOIN: If there are any join operations in the query (e.g., INNER JOIN, LEFT JOIN, etc.), the JOIN clause is \n",
    "# executed next to combine rows from different tables based on the specified conditions.\n",
    "\n",
    "#3. WHERE: The WHERE clause is executed after the FROM and JOIN clauses. It filters the rows returned by the \n",
    "# FROM and JOIN clauses based on specified conditions.\n",
    "\n",
    "#4. GROUP BY: If there is a GROUP BY clause in the query, it is executed next. It groups the results into sets \n",
    "# based on the specified columns.\n",
    "\n",
    "#5 .HAVING: If a HAVING clause is present, it is executed after the GROUP BY clause. It filters the grouped rows\n",
    "# based on conditions.\n",
    "\n",
    "#6. SELECT: The SELECT clause is executed after all the previous clauses. It specifies the columns to be included\n",
    "# in the result set.\n",
    "\n",
    "#7. DISTINCT: If the DISTINCT keyword is used, it is executed after the SELECT clause to remove duplicate rows \n",
    "# from the result set.\n",
    "\n",
    "#8. ORDER BY: The ORDER BY clause is executed next to sort the result set based on the specified columns and sort\n",
    "# order.\n",
    "\n",
    "#9. LIMIT/OFFSET: Finally, if there is a LIMIT clause (and sometimes an OFFSET clause), it is executed last.\n",
    "# The LIMIT clause restricts the number of rows returned in the result set, and the OFFSET clause specifies \n",
    "# how many rows to skip before starting to return rows."
   ]
  }
 ],
 "metadata": {
  "kernelspec": {
   "display_name": "Python 3 (ipykernel)",
   "language": "python",
   "name": "python3"
  },
  "language_info": {
   "codemirror_mode": {
    "name": "ipython",
    "version": 3
   },
   "file_extension": ".py",
   "mimetype": "text/x-python",
   "name": "python",
   "nbconvert_exporter": "python",
   "pygments_lexer": "ipython3",
   "version": "3.10.8"
  }
 },
 "nbformat": 4,
 "nbformat_minor": 5
}
