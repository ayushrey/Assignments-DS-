{
 "cells": [
  {
   "cell_type": "code",
   "execution_count": 9,
   "id": "738a4555-5f17-437e-9fc7-cc0d1a096b66",
   "metadata": {},
   "outputs": [
    {
     "name": "stdout",
     "output_type": "stream",
     "text": [
      "0\n",
      "1\n",
      "2\n",
      "3\n",
      "4\n",
      "5\n",
      "6\n",
      "7\n",
      "8\n",
      "9\n"
     ]
    }
   ],
   "source": [
    "#1 question\n",
    "# \"FOR\" loop is used to iterative purpose when the number of iteration is known while \"WHILE\" loop is used when we have\n",
    "# a condition and need to iterate the loop till the condition becomes false\n",
    "for i in range(10):\n",
    "    print(i)"
   ]
  },
  {
   "cell_type": "code",
   "execution_count": 8,
   "id": "8d4cecb3-8a71-43cc-bc74-f7ae70266707",
   "metadata": {},
   "outputs": [
    {
     "name": "stdout",
     "output_type": "stream",
     "text": [
      "1\n",
      "4\n",
      "16\n",
      "64\n",
      "256\n"
     ]
    }
   ],
   "source": [
    "l=985\n",
    "i=1\n",
    "while i<l:\n",
    "    print(i)\n",
    "    i=i*4"
   ]
  },
  {
   "cell_type": "code",
   "execution_count": 26,
   "id": "550dd483-018f-4198-a999-5edcc55dadc5",
   "metadata": {},
   "outputs": [
    {
     "name": "stdout",
     "output_type": "stream",
     "text": [
      "Sum is: 55 Product is: 3628800\n"
     ]
    }
   ],
   "source": [
    "#2. Sum and Product of first 10 natural number\n",
    "summ=0\n",
    "pro=1\n",
    "for i in range(10):\n",
    "    summ=summ+i+1\n",
    "    pro=pro*(i+1)\n",
    "print(\"Sum is:\",summ,\"Product is:\",pro)"
   ]
  },
  {
   "cell_type": "code",
   "execution_count": 32,
   "id": "d96b3b70-7881-4138-a201-4abc9ac97df3",
   "metadata": {},
   "outputs": [
    {
     "name": "stdout",
     "output_type": "stream",
     "text": [
      "Sum is: 55 Product is: 3628800\n"
     ]
    }
   ],
   "source": [
    "summ=0\n",
    "pro=1\n",
    "i=1\n",
    "while i<=10:\n",
    "    summ=summ+i\n",
    "    pro=pro*i\n",
    "    i=i+1\n",
    "print(\"Sum is:\",summ,\"Product is:\",pro)"
   ]
  },
  {
   "cell_type": "code",
   "execution_count": 8,
   "id": "1b283844-31de-4a68-b294-e88da66b9101",
   "metadata": {},
   "outputs": [
    {
     "name": "stdin",
     "output_type": "stream",
     "text": [
      "Enter the number of units consumed in a month: 310\n"
     ]
    },
    {
     "data": {
      "text/plain": [
       "2250.0"
      ]
     },
     "execution_count": 8,
     "metadata": {},
     "output_type": "execute_result"
    }
   ],
   "source": [
    "#3. Electricity bill\n",
    "unit = int(input(\"Enter the number of units consumed in a month:\"))\n",
    "if unit<=100:\n",
    "    bill =unit*4.5\n",
    "elif unit>100 and unit<=200:\n",
    "    bill=100*4.5+(unit-100)*6\n",
    "elif unit>200 and unit<=300:\n",
    "    bill=100*4.5+100*6+(unit-200)*10\n",
    "else:\n",
    "    bill=100*4.5+100*6+100*10+(unit-300)*20\n",
    "bill"
   ]
  },
  {
   "cell_type": "code",
   "execution_count": 14,
   "id": "2206ee5e-c9d1-436f-86f7-998709f0a45d",
   "metadata": {},
   "outputs": [
    {
     "data": {
      "text/plain": [
       "[2,\n",
       " 4,\n",
       " 5,\n",
       " 6,\n",
       " 8,\n",
       " 10,\n",
       " 12,\n",
       " 14,\n",
       " 15,\n",
       " 16,\n",
       " 18,\n",
       " 20,\n",
       " 22,\n",
       " 24,\n",
       " 25,\n",
       " 26,\n",
       " 28,\n",
       " 30,\n",
       " 32,\n",
       " 34,\n",
       " 35,\n",
       " 36,\n",
       " 38,\n",
       " 40,\n",
       " 42,\n",
       " 44,\n",
       " 45,\n",
       " 46,\n",
       " 48,\n",
       " 50,\n",
       " 52,\n",
       " 54,\n",
       " 55,\n",
       " 56,\n",
       " 58,\n",
       " 60,\n",
       " 62,\n",
       " 64,\n",
       " 65,\n",
       " 66,\n",
       " 68,\n",
       " 70,\n",
       " 72,\n",
       " 74,\n",
       " 75,\n",
       " 76,\n",
       " 78,\n",
       " 80,\n",
       " 82,\n",
       " 84,\n",
       " 85,\n",
       " 86,\n",
       " 88,\n",
       " 90,\n",
       " 92,\n",
       " 94,\n",
       " 95,\n",
       " 96,\n",
       " 98,\n",
       " 100]"
      ]
     },
     "execution_count": 14,
     "metadata": {},
     "output_type": "execute_result"
    }
   ],
   "source": [
    "#4. Cube inside a new list\n",
    "l=list(range(1,101))\n",
    "l1=[]\n",
    "for i in l:\n",
    "    if (i**3)%4==0 or (i**3)%5==0:\n",
    "        l1.append(i)\n",
    "l1"
   ]
  },
  {
   "cell_type": "code",
   "execution_count": 31,
   "id": "9e4d8ec5-9762-4af5-97ff-7685f3327955",
   "metadata": {},
   "outputs": [
    {
     "name": "stdout",
     "output_type": "stream",
     "text": [
      "I want to become a data scientist\n"
     ]
    },
    {
     "data": {
      "text/plain": [
       "12"
      ]
     },
     "execution_count": 31,
     "metadata": {},
     "output_type": "execute_result"
    }
   ],
   "source": [
    "#5. count no. of vowels\n",
    "str=\"I want to become a data scientist\"\n",
    "print(str)\n",
    "count=0\n",
    "for i in str.lower():\n",
    "    if(i==\"a\" or i==\"e\" or i==\"i\" or i==\"o\" or i==\"u\"):\n",
    "        count=count+1\n",
    "count"
   ]
  },
  {
   "cell_type": "code",
   "execution_count": null,
   "id": "fb593360-b685-4a75-ad22-e1dc688edba7",
   "metadata": {},
   "outputs": [],
   "source": []
  }
 ],
 "metadata": {
  "kernelspec": {
   "display_name": "Python 3 (ipykernel)",
   "language": "python",
   "name": "python3"
  },
  "language_info": {
   "codemirror_mode": {
    "name": "ipython",
    "version": 3
   },
   "file_extension": ".py",
   "mimetype": "text/x-python",
   "name": "python",
   "nbconvert_exporter": "python",
   "pygments_lexer": "ipython3",
   "version": "3.10.8"
  }
 },
 "nbformat": 4,
 "nbformat_minor": 5
}
