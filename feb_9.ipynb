{
 "cells": [
  {
   "cell_type": "code",
   "execution_count": 2,
   "id": "b4bf649f-57f2-4f3f-a364-69c2a88dadbb",
   "metadata": {},
   "outputs": [],
   "source": [
    "\"\"\" Q1, Create a vehicle class with an init method having instance variables as name_of_vehicle, max_speed\n",
    "and average_of_vehicle.\"\"\"\n",
    "#Ans: \n",
    "class vehicle:\n",
    "    \n",
    "    def __init__(self,name_of_vehicle, max_speed,average_of_vehicle):\n",
    "        self.name_of_vehicle =name_of_vehicle\n",
    "        self.max_speed = max_speed\n",
    "        self.average_of_vehicle = average_of_vehicle"
   ]
  },
  {
   "cell_type": "code",
   "execution_count": 26,
   "id": "cf504106-b393-4f83-b223-015cfbdab664",
   "metadata": {},
   "outputs": [],
   "source": [
    "\"\"\" Q2. Create a child class car from the vehicle class created in Que 1, which will inherit the vehicle class.\n",
    "Create a method named seating_capacity which takes capacity as an argument and returns the name of\n",
    "the vehicle and its seating capacity.\"\"\"\n",
    "#Ans: \n",
    "class car(vehicle):\n",
    "    \n",
    "    def seating_capacity(self, capacity):\n",
    "        self.capacity =capacity\n",
    "        return self.capacity,self.name_of_vehicle\n",
    "    "
   ]
  },
  {
   "cell_type": "code",
   "execution_count": 27,
   "id": "e6fc9308-57a0-43a5-9683-a527de2cd671",
   "metadata": {},
   "outputs": [],
   "source": [
    "c1=car(\"Toyota\",80,40)"
   ]
  },
  {
   "cell_type": "code",
   "execution_count": 28,
   "id": "054826ff-66f6-46cf-9373-20d6c9dda97d",
   "metadata": {},
   "outputs": [
    {
     "data": {
      "text/plain": [
       "(6, 'Toyota')"
      ]
     },
     "execution_count": 28,
     "metadata": {},
     "output_type": "execute_result"
    }
   ],
   "source": [
    "c1.seating_capacity(6)"
   ]
  },
  {
   "cell_type": "code",
   "execution_count": 30,
   "id": "83df08a9-f4a9-4f7b-b95c-a1ea3638145c",
   "metadata": {},
   "outputs": [],
   "source": [
    "\"\"\" Q3. What is multiple inheritance? Write a python code to demonstrate multiple inheritance.\"\"\"\n",
    "#Ans: Multiple inheritance is a feature in object-oriented programming where a class can inherit properties\n",
    "#and behaviors from multiple parent classes.\n",
    "class school:\n",
    "    \n",
    "    def school_name(self):\n",
    "        pass\n",
    "    \n",
    "    def school_marks(self):\n",
    "        pass\n",
    "\n",
    "class college:\n",
    "    \n",
    "    def college_name(self):\n",
    "        pass\n",
    "    \n",
    "    def college_marks(self):\n",
    "        pass\n",
    "\n",
    "class student(school,college):\n",
    "    \n",
    "    def school_name(self,name):\n",
    "        self.name=name\n",
    "        \n",
    "    def college_marks(self,marks):\n",
    "        self.marks=marks"
   ]
  },
  {
   "cell_type": "code",
   "execution_count": 31,
   "id": "a7423be3-6022-4ce1-be26-645f7c54c2da",
   "metadata": {},
   "outputs": [],
   "source": [
    "s1 = student()"
   ]
  },
  {
   "cell_type": "code",
   "execution_count": 32,
   "id": "e9b8f716-4d38-4de5-97c7-591f3346327d",
   "metadata": {},
   "outputs": [],
   "source": [
    "s1.school_name=\"PW skills\""
   ]
  },
  {
   "cell_type": "code",
   "execution_count": 33,
   "id": "2255f8f3-89c0-4f1b-afed-58600a07aa50",
   "metadata": {},
   "outputs": [
    {
     "data": {
      "text/plain": [
       "'PW skills'"
      ]
     },
     "execution_count": 33,
     "metadata": {},
     "output_type": "execute_result"
    }
   ],
   "source": [
    "s1.school_name"
   ]
  },
  {
   "cell_type": "code",
   "execution_count": 34,
   "id": "ed0988f1-0813-4426-8f19-2121fee21ff8",
   "metadata": {},
   "outputs": [],
   "source": [
    "\"\"\" Q4. What are getter and setter in python? Create a class and create a getter and a setter method in this\n",
    "class.\"\"\"\n",
    "#Ans: In Python, getters and setters are methods used to access and modify the attributes of a class, respectively,\n",
    "# while providing additional control or validation. They are used to implement the concept of encapsulation, where\n",
    "# data access and modification are controlled through methods to ensure data integrity and security.\n",
    "class pwskills:\n",
    "    \n",
    "    def __init__(self, course_price, course_name):\n",
    "        self._course_price = course_price\n",
    "        self.course_name = course_name\n",
    "        \n",
    "    @property\n",
    "    def course_price_access(self):\n",
    "        return self._course_price\n",
    "    \n",
    "    @course_price_access.setter\n",
    "    def course_price_set(self,price):\n",
    "        if price<=3500:\n",
    "            pass\n",
    "        else:\n",
    "            self._course_price =price\n",
    "            \n",
    "    @course_price_access.deleter\n",
    "    def couse_price_delete(self):\n",
    "        del self._course_price"
   ]
  },
  {
   "cell_type": "code",
   "execution_count": 35,
   "id": "ae345e87-267a-423f-bad8-2ab382e68f66",
   "metadata": {},
   "outputs": [],
   "source": [
    "pw = pwskills(3500,\"data science\")"
   ]
  },
  {
   "cell_type": "code",
   "execution_count": 36,
   "id": "82a9e622-0631-4bf9-993e-449a14d6f3e1",
   "metadata": {},
   "outputs": [
    {
     "data": {
      "text/plain": [
       "3500"
      ]
     },
     "execution_count": 36,
     "metadata": {},
     "output_type": "execute_result"
    }
   ],
   "source": [
    "pw.course_price_access\n"
   ]
  },
  {
   "cell_type": "code",
   "execution_count": 37,
   "id": "45a662b3-9977-4463-a64e-0e30871eea9f",
   "metadata": {},
   "outputs": [],
   "source": [
    "pw.course_price_set = 5200"
   ]
  },
  {
   "cell_type": "code",
   "execution_count": 38,
   "id": "10f93abf-8d0e-420f-932c-de474187186d",
   "metadata": {},
   "outputs": [
    {
     "data": {
      "text/plain": [
       "5200"
      ]
     },
     "execution_count": 38,
     "metadata": {},
     "output_type": "execute_result"
    }
   ],
   "source": [
    "pw.course_price_access"
   ]
  },
  {
   "cell_type": "code",
   "execution_count": null,
   "id": "81b3311b-6371-4797-a253-ed3b1b40ebbd",
   "metadata": {},
   "outputs": [],
   "source": [
    "\"\"\" Q5.What is method overriding in python? Write a python code to demonstrate method overriding.\"\"\"\n",
    "#Ans:Method overriding is a feature in object-oriented programming that allows a subclass to provide a specific\n",
    "#implementation of a method that is already defined in its superclass.\n"
   ]
  }
 ],
 "metadata": {
  "kernelspec": {
   "display_name": "Python 3 (ipykernel)",
   "language": "python",
   "name": "python3"
  },
  "language_info": {
   "codemirror_mode": {
    "name": "ipython",
    "version": 3
   },
   "file_extension": ".py",
   "mimetype": "text/x-python",
   "name": "python",
   "nbconvert_exporter": "python",
   "pygments_lexer": "ipython3",
   "version": "3.10.8"
  }
 },
 "nbformat": 4,
 "nbformat_minor": 5
}
