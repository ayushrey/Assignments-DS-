{
 "cells": [
  {
   "cell_type": "code",
   "execution_count": 1,
   "id": "4ba3f4ac-69db-4341-b652-d765a4d15a2d",
   "metadata": {},
   "outputs": [
    {
     "name": "stdin",
     "output_type": "stream",
     "text": [
      "Enter the marks percentage 32\n"
     ]
    },
    {
     "name": "stdout",
     "output_type": "stream",
     "text": [
      "D\n"
     ]
    }
   ],
   "source": [
    "#Display grade by taking percentage\n",
    "marks = int(input(\"Enter the marks percentage\"))\n",
    "if marks>90:\n",
    "        print(\"A\")\n",
    "elif marks>80 and marks<=90:\n",
    "        print(\"B\")\n",
    "elif marks>60 and marks<=80:\n",
    "        print(\"C\")\n",
    "else:\n",
    "        print(\"D\")"
   ]
  },
  {
   "cell_type": "code",
   "execution_count": 2,
   "id": "79c99102-5093-4aab-8943-e97d7f542854",
   "metadata": {},
   "outputs": [
    {
     "name": "stdin",
     "output_type": "stream",
     "text": [
      "Enter cost: 32352\n"
     ]
    },
    {
     "name": "stdout",
     "output_type": "stream",
     "text": [
      "5% tax\n"
     ]
    }
   ],
   "source": [
    "#Accept cost price and show taxes\n",
    "cost= int(input(\"Enter cost:\"))\n",
    "if cost>100000:\n",
    "    print(\"15% tax\")\n",
    "elif cost>50000 and cost<=100000:\n",
    "    print(\"10% tax\")\n",
    "else:\n",
    "    print(\"5% tax\")"
   ]
  },
  {
   "cell_type": "code",
   "execution_count": 3,
   "id": "3860c519-feb6-43d5-8001-3198e18e3295",
   "metadata": {},
   "outputs": [
    {
     "name": "stdin",
     "output_type": "stream",
     "text": [
      "Enter the city name: Delhi\n"
     ]
    },
    {
     "name": "stdout",
     "output_type": "stream",
     "text": [
      "Red Fort\n"
     ]
    }
   ],
   "source": [
    "#Display Monuments in a place\n",
    "city = input(\"Enter the city name:\")\n",
    "if city==\"Delhi\":\n",
    "    print(\"Red Fort\")\n",
    "elif city==\"Agra\":\n",
    "    print(\"Taj Mahal\")\n",
    "elif city==\"Jaipur\":\n",
    "    print(\"Jal Mahal\")"
   ]
  },
  {
   "cell_type": "code",
   "execution_count": 4,
   "id": "cd6bb8b3-884c-4eb1-a3f8-229ed3f18314",
   "metadata": {},
   "outputs": [
    {
     "name": "stdin",
     "output_type": "stream",
     "text": [
      "Enter a number: 432\n"
     ]
    },
    {
     "name": "stdout",
     "output_type": "stream",
     "text": [
      "The number of times divisible by 3 are:\n",
      "4\n"
     ]
    }
   ],
   "source": [
    "#Number of times a number is divisible by 3 till it  is more than 10\n",
    "num =int(input(\"Enter a number:\"))\n",
    "count =0\n",
    "while num>=10:\n",
    "    num= num/3\n",
    "    count=count+1\n",
    "print(\"The number of times divisible by 3 are:\")\n",
    "print(count)"
   ]
  },
  {
   "cell_type": "code",
   "execution_count": 5,
   "id": "b1645ebd-fc92-4e97-971b-dfcf7d41dd84",
   "metadata": {},
   "outputs": [
    {
     "name": "stdout",
     "output_type": "stream",
     "text": [
      "Welcome\n",
      "Welcome\n",
      "Welcome\n",
      "Welcome\n",
      "Welcome\n",
      "Welcome\n"
     ]
    }
   ],
   "source": [
    "# When we need to do some specific task several numbers of times till some condition becomes false, we use\n",
    "# \"While loop\" Eg.\n",
    "a=0\n",
    "while a<=5:\n",
    "    print(\"Welcome\")\n",
    "    a=a+1;"
   ]
  },
  {
   "cell_type": "code",
   "execution_count": 9,
   "id": "d35a9431-80c7-4282-a070-03297794fef6",
   "metadata": {},
   "outputs": [
    {
     "name": "stdout",
     "output_type": "stream",
     "text": [
      "* * * * * * \n",
      "* * * * * * \n",
      "* * * * * * \n",
      "* * * * * * \n",
      "* * * * * * \n",
      "* * * * * * \n"
     ]
    }
   ],
   "source": [
    "#Patterns\n",
    "i=0\n",
    "while i<=5:\n",
    "    j=0\n",
    "    while j<=5:\n",
    "        print(\"* \",end=\"\")\n",
    "        j=j+1\n",
    "    print(\"\\r\")   \n",
    "    i=i+1"
   ]
  },
  {
   "cell_type": "code",
   "execution_count": 11,
   "id": "5b739e6d-23b9-45d6-9eae-86b44b2d77a6",
   "metadata": {},
   "outputs": [
    {
     "name": "stdout",
     "output_type": "stream",
     "text": [
      "* \n",
      "* * \n",
      "* * * \n",
      "* * * * \n",
      "* * * * * \n",
      "* * * * * * \n"
     ]
    }
   ],
   "source": [
    "#Patterns\n",
    "i=0\n",
    "while i<=5:\n",
    "    j=0\n",
    "    while j<=i:\n",
    "        print(\"* \",end=\"\")\n",
    "        j=j+1\n",
    "    print(\"\\r\")   \n",
    "    i=i+1"
   ]
  },
  {
   "cell_type": "code",
   "execution_count": 12,
   "id": "d7e15222-f892-411d-ab52-f714dc753eba",
   "metadata": {},
   "outputs": [
    {
     "name": "stdout",
     "output_type": "stream",
     "text": [
      "* * * * * * \n",
      "* * * * * \n",
      "* * * * \n",
      "* * * \n",
      "* * \n",
      "* \n"
     ]
    }
   ],
   "source": [
    "#Patterns\n",
    "i=0\n",
    "while i<=5:\n",
    "    j=5\n",
    "    while j>=i:\n",
    "        print(\"* \",end=\"\")\n",
    "        j=j-1\n",
    "    print(\"\\r\")   \n",
    "    i=i+1"
   ]
  },
  {
   "cell_type": "code",
   "execution_count": 13,
   "id": "62977850-6640-4e09-b826-66d47bcf42d3",
   "metadata": {},
   "outputs": [
    {
     "name": "stdout",
     "output_type": "stream",
     "text": [
      "10\n",
      "9\n",
      "8\n",
      "7\n",
      "6\n",
      "5\n",
      "4\n",
      "3\n",
      "2\n",
      "1\n"
     ]
    }
   ],
   "source": [
    "#Reverse a while loop\n",
    "i=10\n",
    "while i>0:\n",
    "    print(i)\n",
    "    i=i-1"
   ]
  },
  {
   "cell_type": "code",
   "execution_count": null,
   "id": "62bd8796-06a7-4107-b7f5-79c3b5039a51",
   "metadata": {},
   "outputs": [],
   "source": []
  }
 ],
 "metadata": {
  "kernelspec": {
   "display_name": "Python 3 (ipykernel)",
   "language": "python",
   "name": "python3"
  },
  "language_info": {
   "codemirror_mode": {
    "name": "ipython",
    "version": 3
   },
   "file_extension": ".py",
   "mimetype": "text/x-python",
   "name": "python",
   "nbconvert_exporter": "python",
   "pygments_lexer": "ipython3",
   "version": "3.10.8"
  }
 },
 "nbformat": 4,
 "nbformat_minor": 5
}
