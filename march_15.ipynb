{
 "cells": [
  {
   "cell_type": "code",
   "execution_count": null,
   "id": "86ad4b92-71fc-4a17-aff9-df32c5b2ab51",
   "metadata": {},
   "outputs": [],
   "source": [
    "# Ans1:\n",
    "# Artificial Intelligence (AI):\n",
    "# Artificial Intelligence refers to the simulation of human intelligence in machines that are programmed to think and learn like humans. AI systems can perform tasks that typically require human intelligence, such as visual perception, speech recognition, decision-making, and language translation. For example, AI-powered virtual assistants like Siri and Alexa can understand and respond to user voice commands, demonstrating AI capabilities.\n",
    "\n",
    "# Machine Learning (ML):\n",
    "# Machine Learning is a subset of AI that involves training algorithms to learn patterns from data. ML algorithms improve their performance over time with experience, without being explicitly programmed. An example is email spam filtering. ML algorithms can learn to distinguish between spam and non-spam emails by analyzing thousands of examples and their features.\n",
    "\n",
    "# Deep Learning (DL):\n",
    "# Deep Learning is a specialized field of ML that uses neural networks with many layers (deep neural networks) to learn complex patterns from large amounts of data. DL has been particularly successful in tasks like image and speech recognition. For instance, deep learning models are used in facial recognition systems, enabling them to identify and classify faces in images or videos."
   ]
  },
  {
   "cell_type": "code",
   "execution_count": null,
   "id": "f415df7a-4c08-430c-bafc-f0d415200e99",
   "metadata": {},
   "outputs": [],
   "source": [
    "# Ans2:\n",
    "# Supervised Learning: It is a type of machine learning where an algorithm learns from labeled training data, and then makes predictions based on that learning.\n",
    "\n",
    "# Examples of supervised learning include:\n",
    "\n",
    "# Image Recognition: Teaching a model to recognize objects in images.\n",
    "# Spam Email Detection: Classifying emails as spam or non-spam.\n",
    "# Predicting House Prices: Predicting the price of a house based on various features.\n",
    "# Handwritten Digit Recognition: Recognizing handwritten digits, commonly used in postal services.\n",
    "# Language Translation: Translating text from one language to another."
   ]
  },
  {
   "cell_type": "code",
   "execution_count": null,
   "id": "ae27b817-7090-4464-90d7-7edc2cd7e598",
   "metadata": {},
   "outputs": [],
   "source": [
    "# Ans3:\n",
    "# Unsupervised Learning: It involves training algorithms with unlabeled data where the algorithm tries to learn the patterns without any supervision.\n",
    "\n",
    "# Examples of unsupervised learning include:\n",
    "\n",
    "# Clustering: Grouping similar items together, like customer segmentation for targeted marketing.\n",
    "# Anomaly Detection: Identifying unusual patterns that do not conform to expected behavior, useful in fraud detection.\n",
    "# Association: Finding patterns in data, like items that are often purchased together in a store.\n",
    "# Dimensionality Reduction: Reducing the number of variables in a dataset while preserving essential features."
   ]
  },
  {
   "cell_type": "code",
   "execution_count": null,
   "id": "298afc1c-05c2-43d5-8a62-bd1f25e42760",
   "metadata": {},
   "outputs": [],
   "source": [
    "# Ans4:\n",
    "# AI (Artificial Intelligence): The broad concept of machines or software imitating intelligent human behavior.\n",
    "# ML (Machine Learning): A subset of AI where algorithms are trained to learn patterns from data.\n",
    "# DL (Deep Learning): A specialized subset of ML using neural networks with many layers to learn intricate patterns.\n",
    "# DS (Data Science): A multidisciplinary field involving techniques from statistics, mathematics, and computer science to extract insights and knowledge from data."
   ]
  },
  {
   "cell_type": "code",
   "execution_count": null,
   "id": "c320d3b2-95f9-4297-96b7-d620e73f6190",
   "metadata": {},
   "outputs": [],
   "source": [
    "# Ans5:\n",
    "Supervised Learning: Uses labeled data, where the algorithm learns from both input features and corresponding output labels.\n",
    "Unsupervised Learning: Uses unlabeled data, where the algorithm finds patterns and relationships without explicit supervision.\n",
    "Semi-Supervised Learning: Uses a combination of labeled and unlabeled data. The algorithm is trained on a small amount of labeled data and a large amount of unlabeled data."
   ]
  },
  {
   "cell_type": "code",
   "execution_count": null,
   "id": "9a8e97e6-da6e-461c-8adc-7d44b93abbfe",
   "metadata": {},
   "outputs": [],
   "source": [
    "\n",
    "# Ans6:"
   ]
  },
  {
   "cell_type": "code",
   "execution_count": null,
   "id": "8102c7aa-50f1-4052-acf7-6adc48ed30b7",
   "metadata": {},
   "outputs": [],
   "source": [
    "# Ans7:\n"
   ]
  },
  {
   "cell_type": "code",
   "execution_count": null,
   "id": "3a40fdad-9ed4-402f-885e-d702dff1fc65",
   "metadata": {},
   "outputs": [],
   "source": [
    "# Ans8:\n"
   ]
  },
  {
   "cell_type": "code",
   "execution_count": null,
   "id": "eb175326-9503-41c3-b357-5ef53aa2ebb2",
   "metadata": {},
   "outputs": [],
   "source": []
  },
  {
   "cell_type": "code",
   "execution_count": null,
   "id": "ea89b211-c770-4678-9d6b-bf2f61236ae4",
   "metadata": {},
   "outputs": [],
   "source": []
  },
  {
   "cell_type": "code",
   "execution_count": null,
   "id": "1df15367-b058-4d52-8a1b-8928005816ae",
   "metadata": {},
   "outputs": [],
   "source": []
  }
 ],
 "metadata": {
  "kernelspec": {
   "display_name": "Python 3 (ipykernel)",
   "language": "python",
   "name": "python3"
  },
  "language_info": {
   "codemirror_mode": {
    "name": "ipython",
    "version": 3
   },
   "file_extension": ".py",
   "mimetype": "text/x-python",
   "name": "python",
   "nbconvert_exporter": "python",
   "pygments_lexer": "ipython3",
   "version": "3.10.8"
  }
 },
 "nbformat": 4,
 "nbformat_minor": 5
}
