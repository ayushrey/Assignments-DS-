{
 "cells": [
  {
   "cell_type": "code",
   "execution_count": 2,
   "id": "30eb7561-0ddd-4a64-8390-6dd3e08fd949",
   "metadata": {},
   "outputs": [
    {
     "name": "stdout",
     "output_type": "stream",
     "text": [
      "0     4\n",
      "1     8\n",
      "2    15\n",
      "3    16\n",
      "4    23\n",
      "5    42\n",
      "dtype: int64\n"
     ]
    }
   ],
   "source": [
    "\"\"\" Q1. Create a Pandas Series that contains the following data: 4, 8, 15, 16, 23, and 42. Then, print the series.\"\"\"\n",
    "import pandas as pd\n",
    "data = [4, 8, 15, 16, 23,42]\n",
    "series = pd.Series(data)\n",
    "print(series)"
   ]
  },
  {
   "cell_type": "code",
   "execution_count": 5,
   "id": "e7775857-3cd0-443d-9de1-a04f5db798d4",
   "metadata": {},
   "outputs": [
    {
     "name": "stdout",
     "output_type": "stream",
     "text": [
      "0              32\n",
      "1             324\n",
      "2            dfds\n",
      "3            True\n",
      "4              32\n",
      "5             edf\n",
      "6    [1, 2, 3, 4]\n",
      "7            none\n",
      "8      (231, 345)\n",
      "9           ayush\n",
      "dtype: object\n"
     ]
    }
   ],
   "source": [
    "\"\"\" Q2. Create a variable of list type containing 10 elements in it, and apply pandas.Series function on the\n",
    "variable print it.\"\"\"\n",
    "l =[32,324,\"dfds\", True, 32, 'edf', [1,2,3,4], \"none\", (231,345), \"ayush\"]\n",
    "ser =  pd.Series(l)\n",
    "print(ser)"
   ]
  },
  {
   "cell_type": "code",
   "execution_count": 6,
   "id": "5b29edac-ea8e-432d-b186-5e549ca9ca76",
   "metadata": {},
   "outputs": [
    {
     "name": "stdout",
     "output_type": "stream",
     "text": [
      "     Name  Age  Gender\n",
      "0   Alice   25  Female\n",
      "1     Bob   30    Male\n",
      "2  Claire   27  Female\n"
     ]
    }
   ],
   "source": [
    "\"\"\"Q3. Create a Pandas DataFrame that contains the following data: Then, print the DataFrame. \"\"\"\n",
    "\n",
    "data1 = {\n",
    "    'Name': ['Alice', 'Bob', 'Claire'],\n",
    "    'Age': [25, 30, 27],\n",
    "    'Gender': ['Female', 'Male', 'Female']\n",
    "}\n",
    "\n",
    "# Create the DataFrame\n",
    "df = pd.DataFrame(data1)\n",
    "\n",
    "# Print the DataFrame\n",
    "print(df)"
   ]
  },
  {
   "cell_type": "code",
   "execution_count": 7,
   "id": "13f4193b-b6d8-4b48-93d6-cdf5b53808a0",
   "metadata": {},
   "outputs": [
    {
     "name": "stdout",
     "output_type": "stream",
     "text": [
      "DataFrame:\n",
      "     Name  Age  Gender\n",
      "0   Alice   25  Female\n",
      "1     Bob   30    Male\n",
      "2  Claire   27  Female\n"
     ]
    }
   ],
   "source": [
    "\"\"\"Q4. What is ‘DataFrame’ in pandas and how is it different from pandas.series? Explain with an example. \"\"\"\n",
    "#Ans : In pandas, a DataFrame is a two-dimensional labeled data structure. It can be thought of as a table or \n",
    "# spreadsheet, where data is organized in rows and columns. Each column in a DataFrame is a Pandas Series, and \n",
    "# the entire DataFrame can be seen as a collection of Series with a shared index.\n",
    "\n",
    "# Dataframe is like 2D object while series in 1D. Dataframes can have multiple datatypes while series can have only\n",
    "# one type of data type.\n",
    "\n",
    "# Example DataFrame\n",
    "data = {\n",
    "    'Name': ['Alice', 'Bob', 'Claire'],\n",
    "    'Age': [25, 30, 27],\n",
    "    'Gender': ['Female', 'Male', 'Female']\n",
    "}\n",
    "\n",
    "df = pd.DataFrame(data)\n",
    "print(\"DataFrame:\")\n",
    "print(df)"
   ]
  },
  {
   "cell_type": "code",
   "execution_count": 8,
   "id": "eb5471f9-850f-4475-8894-6af520a90f4d",
   "metadata": {},
   "outputs": [],
   "source": [
    "# In this example, we have created a DataFrame containing three columns (Name, Age, and Gender) and three rows\n",
    "# of data. Each column represents a Pandas Series. For instance, the 'Name' column is a Series with values \n",
    "# ['Alice', 'Bob', 'Claire'] and an index [0, 1, 2]. Similarly, the 'Age' column is a Series with values \n",
    "# [25, 30, 27] and the 'Gender' column is a Series with values ['Female', 'Male', 'Female']. The DataFrame \n",
    "# combines these three Series into a tabular data structure."
   ]
  },
  {
   "cell_type": "code",
   "execution_count": 9,
   "id": "6077a69e-495f-4b2e-aab8-aede844bfecd",
   "metadata": {},
   "outputs": [
    {
     "name": "stdout",
     "output_type": "stream",
     "text": [
      "Gender\n",
      "Female    27.0\n",
      "Male      27.0\n",
      "Name: Age, dtype: float64\n"
     ]
    }
   ],
   "source": [
    "\"\"\"Q5. What are some common functions you can use to manipulate data in a Pandas DataFrame? Can\n",
    "you give an example of when you might use one of these functions? \"\"\"\n",
    "#Ans: Some common functions are: head(), info(), tail(), describe(), shape, drop(), groupby() etc.\n",
    "\n",
    "# Sample DataFrame\n",
    "data = {\n",
    "    'Name': ['Alice', 'Bob', 'Claire', 'David', 'Emma'],\n",
    "    'Age': [25, 30, 27, 24, 29],\n",
    "    'Gender': ['Female', 'Male', 'Female', 'Male', 'Female']\n",
    "}\n",
    "\n",
    "df = pd.DataFrame(data)\n",
    "\n",
    "# Group by 'Gender' and calculate the average age for each group\n",
    "average_age_by_gender = df.groupby('Gender')['Age'].mean()\n",
    "\n",
    "print(average_age_by_gender)\n"
   ]
  },
  {
   "cell_type": "code",
   "execution_count": null,
   "id": "05ba3a2e-8f71-4187-b223-f7658b239098",
   "metadata": {},
   "outputs": [],
   "source": [
    "\"\"\"Q6. Which of the following is mutable in nature Series, DataFrame, Panel?\"\"\"\n",
    "#ANS: Among the options given (Series, DataFrame, Panel), both Series and DataFrame are mutable in nature, while\n",
    "# Panel is not.\n",
    "\n",
    "# 1. Series: A Pandas Series is mutable, meaning you can modify its elements after it is created. You can change\n",
    "# the values, add new elements, or delete existing ones.\n",
    "\n",
    "# 2. DataFrame: A Pandas DataFrame is also mutable. You can modify the values in any cell, add new rows or columns,\n",
    "# and delete existing rows or columns.\n",
    "\n",
    "# 3. Panel: However, a Panel is not mutable. Panels were used in older versions of Pandas to represent \n",
    "# three-dimensional data, but they have been deprecated since version 0.25.0. Instead, you can use the more\n",
    "# flexible and powerful multi-dimensional DataFrame (with hierarchical indexing) to handle complex data structures."
   ]
  },
  {
   "cell_type": "code",
   "execution_count": 10,
   "id": "721ecff5-7dc9-4b24-b889-3be46ca2d29f",
   "metadata": {},
   "outputs": [
    {
     "name": "stdout",
     "output_type": "stream",
     "text": [
      "     Name  Age  Gender\n",
      "0   Alice   25  Female\n",
      "1     Bob   30    Male\n",
      "2  Claire   27  Female\n"
     ]
    }
   ],
   "source": [
    "\"\"\"Q7. Create a DataFrame using multiple Series. Explain with an example. \"\"\"\n",
    "#Ans: \n",
    "# Creating individual Series\n",
    "name_series = pd.Series(['Alice', 'Bob', 'Claire'])\n",
    "age_series = pd.Series([25, 30, 27])\n",
    "gender_series = pd.Series(['Female', 'Male', 'Female'])\n",
    "\n",
    "# Combining the Series to create the DataFrame\n",
    "df = pd.DataFrame({\n",
    "    'Name': name_series,\n",
    "    'Age': age_series,\n",
    "    'Gender': gender_series\n",
    "})\n",
    "\n",
    "# Print the DataFrame\n",
    "print(df)"
   ]
  },
  {
   "cell_type": "code",
   "execution_count": null,
   "id": "876fee51-aa3f-49f4-878f-840003cc2cbf",
   "metadata": {},
   "outputs": [],
   "source": [
    "# "
   ]
  }
 ],
 "metadata": {
  "kernelspec": {
   "display_name": "Python 3 (ipykernel)",
   "language": "python",
   "name": "python3"
  },
  "language_info": {
   "codemirror_mode": {
    "name": "ipython",
    "version": 3
   },
   "file_extension": ".py",
   "mimetype": "text/x-python",
   "name": "python",
   "nbconvert_exporter": "python",
   "pygments_lexer": "ipython3",
   "version": "3.10.8"
  }
 },
 "nbformat": 4,
 "nbformat_minor": 5
}
