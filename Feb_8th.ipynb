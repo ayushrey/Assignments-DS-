{
 "cells": [
  {
   "cell_type": "code",
   "execution_count": 6,
   "id": "d4b09a9a-465b-4ffe-a887-a3f459c85994",
   "metadata": {},
   "outputs": [],
   "source": [
    "\"\"\" Q1. What is Abstraction in OOps? Explain with an example.\"\"\"\n",
    "#Ans: Abstraction in OOPs is a principle through which we hide the implementation details from user and provide it\n",
    "# only necessary details. In python \"Abstraction\" refers to crteatig a blueprint for inherieted classes.\n",
    "import abc\n",
    "class pwskills:\n",
    "    \n",
    "    @abc.abstractmethod\n",
    "    def student_details(self):\n",
    "        pass\n",
    "    \n",
    "    @abc.abstractmethod\n",
    "    def student_assignment(self):\n",
    "        pass\n",
    "    \n",
    "    @abc.abstractmethod\n",
    "    def student_marks(self):\n",
    "        pass"
   ]
  },
  {
   "cell_type": "code",
   "execution_count": 7,
   "id": "d70a13d1-bb78-4d86-a245-511197bf1b49",
   "metadata": {},
   "outputs": [],
   "source": [
    "class student(pwskills):\n",
    "    def student_details(self):\n",
    "        return \"Students details\"\n",
    "    \n",
    "    def student_assignment(self):\n",
    "        return \"Student Assigment\""
   ]
  },
  {
   "cell_type": "code",
   "execution_count": 8,
   "id": "368b5526-ca38-4f48-84e6-e8b10e7c8b03",
   "metadata": {},
   "outputs": [],
   "source": [
    "class dataScience(pwskills):\n",
    "    def student_details(self):\n",
    "        return \"DS students\"\n",
    "    \n",
    "    def student_marks(self):\n",
    "        return \"Student DS marks\""
   ]
  },
  {
   "cell_type": "code",
   "execution_count": 16,
   "id": "6b7e3791-41be-4ead-a268-16c44d034fda",
   "metadata": {},
   "outputs": [],
   "source": [
    "s1 =student()"
   ]
  },
  {
   "cell_type": "code",
   "execution_count": 17,
   "id": "954c77e2-d090-4ebb-8adc-0bb5f6528044",
   "metadata": {},
   "outputs": [
    {
     "data": {
      "text/plain": [
       "'Students details'"
      ]
     },
     "execution_count": 17,
     "metadata": {},
     "output_type": "execute_result"
    }
   ],
   "source": [
    "s1.student_details()"
   ]
  },
  {
   "cell_type": "code",
   "execution_count": 19,
   "id": "c96d1878-783c-4c2b-9834-506cc5486460",
   "metadata": {},
   "outputs": [],
   "source": [
    "s1.student_marks()"
   ]
  },
  {
   "cell_type": "code",
   "execution_count": 20,
   "id": "8c5b18fa-f360-4b8a-84ee-0c121c60a644",
   "metadata": {},
   "outputs": [],
   "source": [
    "ds = dataScience()"
   ]
  },
  {
   "cell_type": "code",
   "execution_count": 21,
   "id": "5ba9bedf-ac0a-4b2e-8d8d-e5f6c43c4579",
   "metadata": {},
   "outputs": [
    {
     "data": {
      "text/plain": [
       "'Student DS marks'"
      ]
     },
     "execution_count": 21,
     "metadata": {},
     "output_type": "execute_result"
    }
   ],
   "source": [
    "ds.student_marks()"
   ]
  },
  {
   "cell_type": "code",
   "execution_count": 22,
   "id": "a25df4b3-1619-4209-aaa0-a4a09cda2fe8",
   "metadata": {},
   "outputs": [],
   "source": [
    "\"\"\" Q2. Differentiate between Abstraction and Encapsulation. Explain with an example.\"\"\"\n",
    "#Ans: abstraction focuses on defining what an object should do, while encapsulation ensures that data and behavior\n",
    "# are bundled together and accessed through well-defined interfaces, promoting better data protection and\n",
    "#modularity in code\n",
    "# Abstraction through a Shape class\n",
    "class Shape:\n",
    "    def area(self):\n",
    "        pass\n",
    "\n",
    "    def perimeter(self):\n",
    "        pass"
   ]
  },
  {
   "cell_type": "code",
   "execution_count": 23,
   "id": "aa93d5af-92af-46fa-b47e-8d2a62246515",
   "metadata": {},
   "outputs": [],
   "source": [
    "# Encapsulation through a Shape class\n",
    "class Shape:\n",
    "    def __init__(self, color):\n",
    "        self.color = color\n",
    "        self._area = None\n",
    "        self._perimeter = None\n",
    "\n",
    "    def calculate_area(self):\n",
    "        pass\n",
    "\n",
    "    def calculate_perimeter(self):\n",
    "        pass\n",
    "\n",
    "    def get_color(self):\n",
    "        return self.color\n",
    "\n",
    "    def set_color(self, new_color):\n",
    "        self.color = new_color"
   ]
  },
  {
   "cell_type": "code",
   "execution_count": null,
   "id": "6dbd8dc2-3a38-4afa-81e9-52172206f6dc",
   "metadata": {},
   "outputs": [],
   "source": [
    "\"\"\" Q3. What is abc module in python? Why is it used?\"\"\"\n",
    "#ANS:  \"abc\" provides a way to work with abstract classes and interfaces, allowing you to create a blueprint for\n",
    "# classes that must be implemented by subclasses.\n",
    "# Abstract base classes help in defining a clear structure for subclasses.\n",
    "# Abstract base classes enable you to use isinstance() or issubclass() functions to check if an object is an \n",
    "# instance of a particular abstract class or if a class is a subclass of an abstract class. This allows for more\n",
    "# robust type checking and polymorphic behavior in your code."
   ]
  },
  {
   "cell_type": "code",
   "execution_count": null,
   "id": "f50a0866-48b1-4932-b133-918e80fb66fb",
   "metadata": {},
   "outputs": [],
   "source": [
    "\"\"\" Q4. How can we achieve data abstraction? \"\"\"\n",
    "#Ans: Data abstraction is typically achieved through the use of abstract data types (ADTs) or abstract classes,\n",
    "# which provide a clear interface for interacting with the data while keeping the internal details hidden and\n",
    "# protected.\n",
    "# Abstract Base Classes (ABCs): Use the abc module to create abstract base classes that define the interface for\n",
    "# your data objects. Abstract methods in these classes act as placeholders for methods that must be implemented \n",
    "# by the concrete (non-abstract) subclasses.\n",
    "\n",
    "# Encapsulation: Encapsulation is the process of bundling data and methods that operate on that data within a single\n",
    "# unit, usually a class. In Python, this is done using classes and access control mechanisms like public, private,\n",
    "# and protected attributes."
   ]
  },
  {
   "cell_type": "code",
   "execution_count": null,
   "id": "1ec9f684-2d07-404d-b897-b0bdf10a2a84",
   "metadata": {},
   "outputs": [],
   "source": [
    " \"\"\" Q5. Can we create an instance of an abstract class? Explain your answer. \"\"\"\n",
    "#Ans:No, we cannot create an instance of an abstract class directly in Python. Abstract classes are meant to be \n",
    "# incomplete and serve as blueprints for other classes. They contain one or more abstract methods, which are\n",
    "# defined with the @abstractmethod decorator but don't have an implementation in the abstract class itself."
   ]
  },
  {
   "cell_type": "code",
   "execution_count": 2,
   "id": "5e55096b-efd2-456b-874b-df09652431ba",
   "metadata": {},
   "outputs": [
    {
     "name": "stdout",
     "output_type": "stream",
     "text": [
      "TypeError: Can't instantiate abstract class MyAbstractClass with abstract method some_method\n"
     ]
    }
   ],
   "source": [
    "from abc import ABC, abstractmethod\n",
    "\n",
    "class MyAbstractClass(ABC):\n",
    "    @abstractmethod\n",
    "    def some_method(self):\n",
    "        pass\n",
    "\n",
    "# Trying to create an instance of the abstract class will raise an error.\n",
    "try:\n",
    "    obj = MyAbstractClass()\n",
    "except TypeError as e:\n",
    "    print(\"TypeError:\", e)\n"
   ]
  },
  {
   "cell_type": "code",
   "execution_count": null,
   "id": "d2da1d12-3062-4734-aa30-33ae400b10b0",
   "metadata": {},
   "outputs": [],
   "source": []
  }
 ],
 "metadata": {
  "kernelspec": {
   "display_name": "Python 3 (ipykernel)",
   "language": "python",
   "name": "python3"
  },
  "language_info": {
   "codemirror_mode": {
    "name": "ipython",
    "version": 3
   },
   "file_extension": ".py",
   "mimetype": "text/x-python",
   "name": "python",
   "nbconvert_exporter": "python",
   "pygments_lexer": "ipython3",
   "version": "3.10.8"
  }
 },
 "nbformat": 4,
 "nbformat_minor": 5
}
